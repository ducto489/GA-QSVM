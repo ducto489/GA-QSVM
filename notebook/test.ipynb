{
 "cells": [
  {
   "cell_type": "code",
   "execution_count": 18,
   "metadata": {},
   "outputs": [
    {
     "name": "stdout",
     "output_type": "stream",
     "text": [
      "The autoreload extension is already loaded. To reload it, use:\n",
      "  %reload_ext autoreload\n"
     ]
    }
   ],
   "source": [
    "\n",
    "import qiskit \n",
    "import numpy as np\n",
    "import matplotlib.pyplot as plt\n",
    "import random\n",
    "import sys\n",
    "\n",
    "from sklearn.datasets import make_blobs\n",
    "from sklearn.model_selection import train_test_split\n",
    "from sklearn.preprocessing import StandardScaler, MinMaxScaler\n",
    "from sklearn.decomposition import PCA\n",
    "from sklearn.svm import SVC\n",
    "from sklearn.metrics import classification_report\n",
    "from sklearn.metrics import accuracy_score\n",
    "\n",
    "from qiskit.circuit.library import ZFeatureMap, ZZFeatureMap\n",
    "from qiskit_machine_learning.kernels import FidelityQuantumKernel\n",
    "from qiskit_machine_learning.algorithms import QSVC\n",
    "from qiskit.circuit.library import ZFeatureMap, ZZFeatureMap, PauliFeatureMap\n",
    "from qiskit import qpy\n",
    "\n",
    "sys.path.append('..')\n",
    "from qoop.evolution import normalizer\n",
    "from qoop.evolution.environment_synthesis import MetadataSynthesis\n",
    "from qoop.evolution.generator import by_num_rotations,by_num_rotations_and_cnot\n",
    "from qoop.evolution.environment import EEnvironment\n",
    "from qoop.evolution.crossover import onepoint\n",
    "from qoop.evolution.mutate import bitflip_mutate_with_normalizer\n",
    "from qoop.evolution.divider import by_num_cnot\n",
    "from qoop.evolution.threshold import synthesis_threshold\n",
    "from qoop.backend.constant import operations_with_rotations\n",
    "from qoop.evolution import divider\n",
    "from qoop.backend.utilities import load_circuit\n",
    "%load_ext autoreload\n",
    "%autoreload 2"
   ]
  },
  {
   "cell_type": "code",
   "execution_count": 19,
   "metadata": {},
   "outputs": [],
   "source": [
    "random_seed = 35\n",
    "num_generation = 5\n"
   ]
  },
  {
   "cell_type": "code",
   "execution_count": 20,
   "metadata": {},
   "outputs": [],
   "source": [
    "def load_circuits(fitness_levels):\n",
    "    circuits = []\n",
    "    for fitness in range(1, fitness_levels+1):\n",
    "        print(fitness)\n",
    "        file_name = f'4qubits_FM{fitness}_fitness_2024-12-12/best_circuit.qpy'\n",
    "        with open(file_name, 'rb') as fd:\n",
    "            circuit = qpy.load(fd)[0]\n",
    "            print(circuit)  # Print if needed\n",
    "            circuits.append(circuit)\n",
    "    return circuits"
   ]
  },
  {
   "cell_type": "code",
   "execution_count": 21,
   "metadata": {},
   "outputs": [],
   "source": [
    "import numpy as np\n",
    "from sklearn.datasets import load_wine\n",
    "from sklearn.model_selection import train_test_split\n",
    "from sklearn.decomposition import PCA\n",
    "\n",
    "def prepare_wine_data_case(n_features, random_seed, scale=None):\n",
    "    \"\"\"\n",
    "    Prepare Wine dataset for binary classification\n",
    "    \n",
    "    Returns:\n",
    "        Preprocessed training and testing datasets\n",
    "    \"\"\"\n",
    "    # Load Wine Dataset\n",
    "    wine = load_wine()\n",
    "    X = wine.data\n",
    "    y = wine.target\n",
    "    \n",
    "    # Split and preprocess data\n",
    "    X_train, X_test, y_train, y_test = train_test_split(X, y, test_size=0.2, random_state=random_seed)\n",
    "    \n",
    "    # Scale the features\n",
    "    if scale == \"minmax\":\n",
    "        scaler = MinMaxScaler()\n",
    "    elif scale == \"standard\":\n",
    "        scaler = StandardScaler()\n",
    "\n",
    "    X_train = scaler.fit_transform(X_train)\n",
    "    X_test = scaler.transform(X_test)\n",
    "    \n",
    "    # Reduce dimensionality using PCA\n",
    "    pca = PCA(n_components=n_features)\n",
    "    X_train = pca.fit_transform(X_train)\n",
    "    X_test = pca.transform(X_test)\n",
    "    \n",
    "    return X_train, X_test, y_train, y_test\n",
    "\n",
    "# Chia train-test\n",
    "Xw_train, Xw_test, yw_train, yw_test = prepare_wine_data_case(n_features=3, random_seed=random_seed, scale=\"minmax\")\n",
    "\n",
    "\n",
    "# scaler = StandardScaler()\n",
    "# Xw_train = scaler.fit_transform(Xw_train)\n",
    "# Xw_test = scaler.transform(Xw_test)\n",
    "\n",
    "# # Áp dụng PCA\n",
    "# pca = PCA(n_components=4)\n",
    "# Xw_train = pca.fit_transform(Xw_train)\n",
    "# Xw_test = pca.transform(Xw_test)\n",
    "\n",
    "\n",
    "# Thiết lập tùy chọn hiển thị của NumPy\n",
    "np.set_printoptions(suppress=True)  # precision=3: 3 chữ số thập phân, suppress=True: bỏ ký hiệu khoa học\n",
    "\n",
    "\n",
    "def train_qsvm_with_wine(quantum_circuit):\n",
    "    quantum_kernel = FidelityQuantumKernel(feature_map=quantum_circuit)\n",
    "    qsvc = QSVC(quantum_kernel=quantum_kernel)\n",
    "    qsvc.fit(Xw_train, yw_train)\n",
    "    y_pred = qsvc.predict(Xw_test)\n",
    "    accuracy = accuracy_score(yw_test, y_pred)\n",
    "\n",
    "    return accuracy\n",
    "\n",
    "\n"
   ]
  },
  {
   "cell_type": "code",
   "execution_count": 22,
   "metadata": {},
   "outputs": [
    {
     "name": "stderr",
     "output_type": "stream",
     "text": [
      "Step:   0%|          | 0/5 [00:00<?, ?it/s]"
     ]
    },
    {
     "name": "stdout",
     "output_type": "stream",
     "text": [
      "Initialize list of circuit ...\n",
      "Start evol progress ...\n",
      "Running at generation 1\n"
     ]
    },
    {
     "name": "stderr",
     "output_type": "stream",
     "text": [
      "Step:  40%|████      | 2/5 [00:27<00:40, 13.54s/it]"
     ]
    },
    {
     "name": "stdout",
     "output_type": "stream",
     "text": [
      "[0.9444 0.8611 0.9722 0.9722 0.9444 0.9722 0.6389 0.9722]\n",
      "Saving circuit ...\n",
      "1\n",
      "8\n",
      "Running at generation 2\n"
     ]
    },
    {
     "name": "stderr",
     "output_type": "stream",
     "text": [
      "Step:  60%|██████    | 3/5 [00:53<00:37, 18.90s/it]"
     ]
    },
    {
     "name": "stdout",
     "output_type": "stream",
     "text": [
      "[0.9722 0.9722 0.6389 0.9444 0.9722 0.9722 0.9722 0.9444]\n",
      "Saving circuit ...\n",
      "2\n",
      "8\n",
      "Running at generation 3\n"
     ]
    },
    {
     "name": "stderr",
     "output_type": "stream",
     "text": [
      "Step:  80%|████████  | 4/5 [01:18<00:21, 21.17s/it]"
     ]
    },
    {
     "name": "stdout",
     "output_type": "stream",
     "text": [
      "[0.9722 0.9722 0.6389 0.9444 0.9722 0.9722 0.9722 0.9722]\n",
      "Saving circuit ...\n",
      "3\n",
      "8\n",
      "Running at generation 4\n"
     ]
    },
    {
     "name": "stderr",
     "output_type": "stream",
     "text": [
      "Step: 100%|██████████| 5/5 [01:45<00:00, 23.11s/it]"
     ]
    },
    {
     "name": "stdout",
     "output_type": "stream",
     "text": [
      "[0.9722 0.9722 0.6389 0.9722 0.9722 0.9722 0.9722 0.9444]\n",
      "Saving circuit ...\n",
      "4\n",
      "8\n",
      "Running at generation 5\n"
     ]
    },
    {
     "name": "stderr",
     "output_type": "stream",
     "text": [
      "Step: 100%|██████████| 5/5 [02:08<00:00, 25.71s/it]"
     ]
    },
    {
     "name": "stdout",
     "output_type": "stream",
     "text": [
      "[0.9722 0.8333 0.6389 0.9444 0.9722 0.9722 0.9722 0.9722]\n",
      "Saving circuit ...\n",
      "5\n",
      "8\n",
      "End evol progress, best score ever: 0.9722222222222222\n"
     ]
    },
    {
     "name": "stderr",
     "output_type": "stream",
     "text": [
      "\n"
     ]
    },
    {
     "data": {
      "text/plain": [
       "<qoop.evolution.environment.EEnvironment at 0x7f9a54cb0ad0>"
      ]
     },
     "execution_count": 22,
     "metadata": {},
     "output_type": "execute_result"
    }
   ],
   "source": [
    "# Define the metadata\n",
    "# When increase all the can change then there is a error list index out of range\n",
    "env_metadata = MetadataSynthesis(\n",
    "    num_qubits=3,            # Number of qubits\n",
    "    num_rx=1,                # Number of RX gates # Can't change\n",
    "    num_ry=2,                # Number of RY gates # Can't change\n",
    "    num_rz=0,                # Number of RZ gates # Can't change\n",
    "    depth=4,                 # Depth of the circuit # Can't change this with num_circuit, num_generation\n",
    "    num_circuit=8,           # Number of circuits in the population\n",
    "    num_generation=num_generation,       # Number of generations \n",
    "    prob_mutate=0.02783         # Mutation probability\n",
    ")\n",
    "\n",
    "# Define the environment\n",
    "env = EEnvironment(\n",
    "    metadata=env_metadata,\n",
    "    fitness_func=train_qsvm_with_wine,\n",
    "    generator_func=by_num_rotations_and_cnot,  # Use the new generator function\n",
    "    crossover_func=onepoint(\n",
    "        divider.by_num_rotation_gate(int((env_metadata.num_qubits)/ 2)),\n",
    "        normalizer.by_num_rotation_gate(env_metadata.num_qubits)\n",
    "    ),\n",
    "    mutate_func=bitflip_mutate_with_normalizer(operations_with_rotations, \n",
    "                                               normalizer_func=normalizer.by_num_rotation_gate(env_metadata.num_qubits)),\n",
    "    threshold_func=synthesis_threshold\n",
    ")\n",
    "\n",
    "# Run the evolution process\n",
    "\n",
    "env.evol(verbose=True, mode=\"parallel\")\n"
   ]
  },
  {
   "cell_type": "code",
   "execution_count": 23,
   "metadata": {},
   "outputs": [
    {
     "name": "stdout",
     "output_type": "stream",
     "text": [
      "Training Accuracy: 0.9929577464788732\n",
      "Testing Accuracy: 0.8888888888888888\n"
     ]
    }
   ],
   "source": [
    "Xw_train, Xw_test, yw_train, yw_test = prepare_wine_data_case(n_features=3, random_seed=random_seed, scale=\"standard\")\n",
    "\n",
    "clf = SVC( gamma=0.877551020408163, kernel=\"rbf\").fit(Xw_train, yw_train)\n",
    "train_pred = clf.predict(Xw_train)\n",
    "test_pred = clf.predict(Xw_test)\n",
    "print(\"Training Accuracy:\",clf.score(Xw_train, yw_train))\n",
    "print(\"Testing Accuracy:\",clf.score(Xw_test, yw_test))\n",
    "# # Print classification report\n",
    "# print(\"Training Classification Report:\")\n",
    "# print(classification_report(yw_train, train_pred))\n",
    "\n",
    "# print(\"\\nTesting Classification Report:\")\n",
    "# print(classification_report(yw_test, test_pred))"
   ]
  }
 ],
 "metadata": {
  "kernelspec": {
   "display_name": "ga-qsvm",
   "language": "python",
   "name": "python3"
  },
  "language_info": {
   "codemirror_mode": {
    "name": "ipython",
    "version": 3
   },
   "file_extension": ".py",
   "mimetype": "text/x-python",
   "name": "python",
   "nbconvert_exporter": "python",
   "pygments_lexer": "ipython3",
   "version": "3.11.11"
  }
 },
 "nbformat": 4,
 "nbformat_minor": 2
}
