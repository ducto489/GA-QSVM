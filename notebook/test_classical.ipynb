{
 "cells": [
  {
   "cell_type": "code",
   "execution_count": 1,
   "metadata": {},
   "outputs": [],
   "source": [
    "\n",
    "import qiskit \n",
    "import numpy as np\n",
    "import matplotlib.pyplot as plt\n",
    "import random\n",
    "import sys\n",
    "\n",
    "from sklearn.datasets import make_blobs\n",
    "from sklearn.model_selection import train_test_split\n",
    "from sklearn.preprocessing import StandardScaler, MinMaxScaler\n",
    "from sklearn.decomposition import PCA\n",
    "from sklearn.svm import SVC\n",
    "from sklearn.metrics import classification_report\n",
    "from sklearn.metrics import accuracy_score\n",
    "\n",
    "from qiskit.circuit.library import ZFeatureMap, ZZFeatureMap\n",
    "from qiskit_machine_learning.kernels import FidelityQuantumKernel\n",
    "from qiskit_machine_learning.algorithms import QSVC\n",
    "from qiskit.circuit.library import ZFeatureMap, ZZFeatureMap, PauliFeatureMap\n",
    "from qiskit import qpy\n",
    "\n",
    "sys.path.append('..')\n",
    "from qoop.evolution import normalizer\n",
    "from qoop.evolution.environment_synthesis import MetadataSynthesis\n",
    "from qoop.evolution.generator import by_num_rotations,by_num_rotations_and_cnot\n",
    "from qoop.evolution.environment import EEnvironment\n",
    "from qoop.evolution.crossover import onepoint\n",
    "from qoop.evolution.mutate import bitflip_mutate_with_normalizer\n",
    "from qoop.evolution.divider import by_num_cnot\n",
    "from qoop.evolution.threshold import synthesis_threshold\n",
    "from qoop.backend.constant import operations_with_rotations\n",
    "from qoop.evolution import divider\n",
    "from qoop.backend.utilities import load_circuit\n",
    "%load_ext autoreload\n",
    "%autoreload 2"
   ]
  },
  {
   "cell_type": "code",
   "execution_count": 2,
   "metadata": {},
   "outputs": [],
   "source": [
    "def load_circuits(fitness_levels):\n",
    "    circuits = []\n",
    "    for fitness in range(1, fitness_levels+1):\n",
    "        print(fitness)\n",
    "        file_name = f'4qubits_FM{fitness}_fitness_2024-12-12/best_circuit.qpy'\n",
    "        with open(file_name, 'rb') as fd:\n",
    "            circuit = qpy.load(fd)[0]\n",
    "            print(circuit)  # Print if needed\n",
    "            circuits.append(circuit)\n",
    "    return circuits"
   ]
  },
  {
   "cell_type": "code",
   "execution_count": 3,
   "metadata": {},
   "outputs": [],
   "source": [
    "import numpy as np\n",
    "from sklearn.datasets import load_wine\n",
    "from sklearn.model_selection import train_test_split\n",
    "from sklearn.decomposition import PCA\n",
    "\n",
    "def prepare_wine_data(n_features, random_seed):\n",
    "    \"\"\"\n",
    "    Prepare Wine dataset for binary classification\n",
    "    \n",
    "    Returns:\n",
    "        Preprocessed training and testing datasets\n",
    "    \"\"\"\n",
    "    # Load Wine Dataset\n",
    "    wine = load_wine()\n",
    "    X = wine.data\n",
    "    y = wine.target\n",
    "    \n",
    "    # Split and preprocess data\n",
    "    X_train, X_test, y_train, y_test = train_test_split(X, y, test_size=0.2, random_state=random_seed)\n",
    "    \n",
    "    # Scale the features\n",
    "    scaler = StandardScaler()\n",
    "    X_train = scaler.fit_transform(X_train)\n",
    "    X_test = scaler.transform(X_test)\n",
    "    \n",
    "    # Reduce dimensionality using PCA\n",
    "    pca = PCA(n_components=n_features)\n",
    "    X_train = pca.fit_transform(X_train)\n",
    "    X_test = pca.transform(X_test)\n",
    "    \n",
    "    return X_train, X_test, y_train, y_test\n",
    "\n",
    "# Chia train-test\n",
    "Xw_train, Xw_test, yw_train, yw_test = prepare_wine_data(n_features=3, random_seed=42)\n",
    "\n",
    "\n",
    "# scaler = StandardScaler()\n",
    "# Xw_train = scaler.fit_transform(Xw_train)\n",
    "# Xw_test = scaler.transform(Xw_test)\n",
    "\n",
    "# # Áp dụng PCA\n",
    "# pca = PCA(n_components=4)\n",
    "# Xw_train = pca.fit_transform(Xw_train)\n",
    "# Xw_test = pca.transform(Xw_test)\n",
    "\n",
    "\n",
    "# Thiết lập tùy chọn hiển thị của NumPy\n",
    "np.set_printoptions(suppress=True)  # precision=3: 3 chữ số thập phân, suppress=True: bỏ ký hiệu khoa học\n",
    "\n",
    "\n",
    "def train_qsvm_with_wine(quantum_circuit):\n",
    "    quantum_kernel = FidelityQuantumKernel(feature_map=quantum_circuit)\n",
    "    qsvc = QSVC(quantum_kernel=quantum_kernel)\n",
    "    qsvc.fit(Xw_train, yw_train)\n",
    "    y_pred = qsvc.predict(Xw_test)\n",
    "    accuracy = accuracy_score(yw_test, y_pred)\n",
    "\n",
    "    return accuracy\n",
    "\n",
    "\n"
   ]
  },
  {
   "cell_type": "code",
   "execution_count": 4,
   "metadata": {},
   "outputs": [
    {
     "name": "stderr",
     "output_type": "stream",
     "text": [
      "Step:   0%|          | 0/10 [00:00<?, ?it/s]"
     ]
    },
    {
     "name": "stdout",
     "output_type": "stream",
     "text": [
      "Initialize list of circuit ...\n",
      "Start evol progress ...\n",
      "Running at generation 1\n"
     ]
    },
    {
     "name": "stderr",
     "output_type": "stream",
     "text": [
      "Step:  20%|██        | 2/10 [00:22<01:31, 11.45s/it]"
     ]
    },
    {
     "name": "stdout",
     "output_type": "stream",
     "text": [
      "[0.9444 0.75   0.6111 0.9167 0.6111 0.9444 0.9444 0.9444]\n",
      "Saving circuit ...\n",
      "1\n",
      "8\n",
      "Running at generation 2\n"
     ]
    },
    {
     "name": "stderr",
     "output_type": "stream",
     "text": [
      "Step:  30%|███       | 3/10 [00:48<02:00, 17.18s/it]"
     ]
    },
    {
     "name": "stdout",
     "output_type": "stream",
     "text": [
      "[0.9444 0.9444 0.6111 0.9444 0.9444 0.9444 0.8333 0.9444]\n",
      "Saving circuit ...\n",
      "2\n",
      "8\n",
      "Running at generation 3\n"
     ]
    },
    {
     "name": "stderr",
     "output_type": "stream",
     "text": [
      "Step:  40%|████      | 4/10 [01:12<01:58, 19.77s/it]"
     ]
    },
    {
     "name": "stdout",
     "output_type": "stream",
     "text": [
      "[0.9444 0.9444 0.4722 0.6944 0.9444 0.9444 0.8889 0.9444]\n",
      "Saving circuit ...\n",
      "3\n",
      "8\n",
      "Running at generation 4\n"
     ]
    },
    {
     "ename": "KeyboardInterrupt",
     "evalue": "",
     "output_type": "error",
     "traceback": [
      "\u001b[0;31m---------------------------------------------------------------------------\u001b[0m",
      "\u001b[0;31mKeyboardInterrupt\u001b[0m                         Traceback (most recent call last)",
      "Cell \u001b[0;32mIn[4], line 30\u001b[0m\n\u001b[1;32m     15\u001b[0m env \u001b[38;5;241m=\u001b[39m EEnvironment(\n\u001b[1;32m     16\u001b[0m     metadata\u001b[38;5;241m=\u001b[39menv_metadata,\n\u001b[1;32m     17\u001b[0m     fitness_func\u001b[38;5;241m=\u001b[39mtrain_qsvm_with_wine,\n\u001b[0;32m   (...)\u001b[0m\n\u001b[1;32m     25\u001b[0m     threshold_func\u001b[38;5;241m=\u001b[39msynthesis_threshold\n\u001b[1;32m     26\u001b[0m )\n\u001b[1;32m     28\u001b[0m \u001b[38;5;66;03m# Run the evolution process\u001b[39;00m\n\u001b[0;32m---> 30\u001b[0m \u001b[43menv\u001b[49m\u001b[38;5;241;43m.\u001b[39;49m\u001b[43mevol\u001b[49m\u001b[43m(\u001b[49m\u001b[43mverbose\u001b[49m\u001b[38;5;241;43m=\u001b[39;49m\u001b[38;5;28;43;01mTrue\u001b[39;49;00m\u001b[43m,\u001b[49m\u001b[43m \u001b[49m\u001b[43mmode\u001b[49m\u001b[38;5;241;43m=\u001b[39;49m\u001b[38;5;124;43m\"\u001b[39;49m\u001b[38;5;124;43mparallel\u001b[39;49m\u001b[38;5;124;43m\"\u001b[39;49m\u001b[43m)\u001b[49m\n",
      "File \u001b[0;32m~/workspace/ga-qsvm/GA-QSVM/notebook/../qoop/evolution/environment.py:169\u001b[0m, in \u001b[0;36mEEnvironment.evol\u001b[0;34m(self, verbose, mode, auto_save)\u001b[0m\n\u001b[1;32m    167\u001b[0m \u001b[38;5;28mself\u001b[39m\u001b[38;5;241m.\u001b[39mfitnesss \u001b[38;5;241m=\u001b[39m []\n\u001b[1;32m    168\u001b[0m \u001b[38;5;28;01mif\u001b[39;00m mode \u001b[38;5;241m==\u001b[39m \u001b[38;5;124m'\u001b[39m\u001b[38;5;124mparallel\u001b[39m\u001b[38;5;124m'\u001b[39m:\n\u001b[0;32m--> 169\u001b[0m     fitnesss_temp \u001b[38;5;241m=\u001b[39m \u001b[43mmultiple_compile\u001b[49m\u001b[43m(\u001b[49m\u001b[38;5;28;43mself\u001b[39;49m\u001b[38;5;241;43m.\u001b[39;49m\u001b[43mfitness_func\u001b[49m\u001b[43m,\u001b[49m\u001b[43m \u001b[49m\u001b[38;5;28;43mself\u001b[39;49m\u001b[38;5;241;43m.\u001b[39;49m\u001b[43mcircuits\u001b[49m\u001b[43m)\u001b[49m\n\u001b[1;32m    170\u001b[0m     \u001b[38;5;28mself\u001b[39m\u001b[38;5;241m.\u001b[39mfitnesss\u001b[38;5;241m.\u001b[39mextend(fitnesss_temp)\n\u001b[1;32m    171\u001b[0m \u001b[38;5;28;01melse\u001b[39;00m:\n",
      "File \u001b[0;32m~/workspace/ga-qsvm/GA-QSVM/notebook/../qoop/evolution/environment.py:48\u001b[0m, in \u001b[0;36mmultiple_compile\u001b[0;34m(func, params)\u001b[0m\n\u001b[1;32m     46\u001b[0m k \u001b[38;5;241m=\u001b[39m []\n\u001b[1;32m     47\u001b[0m \u001b[38;5;28;01mwith\u001b[39;00m concurrent\u001b[38;5;241m.\u001b[39mfutures\u001b[38;5;241m.\u001b[39mProcessPoolExecutor() \u001b[38;5;28;01mas\u001b[39;00m executor:\n\u001b[0;32m---> 48\u001b[0m \u001b[43m    \u001b[49m\u001b[38;5;28;43;01mfor\u001b[39;49;00m\u001b[43m \u001b[49m\u001b[43mnumber\u001b[49m\u001b[43m \u001b[49m\u001b[38;5;129;43;01min\u001b[39;49;00m\u001b[43m \u001b[49m\u001b[43m(\u001b[49m\u001b[43mexecutor\u001b[49m\u001b[38;5;241;43m.\u001b[39;49m\u001b[43mmap\u001b[49m\u001b[43m(\u001b[49m\u001b[43mfunc\u001b[49m\u001b[43m,\u001b[49m\u001b[43m \u001b[49m\u001b[43mparams\u001b[49m\u001b[43m)\u001b[49m\u001b[43m)\u001b[49m\u001b[43m:\u001b[49m\n\u001b[1;32m     49\u001b[0m \u001b[43m        \u001b[49m\u001b[43mk\u001b[49m\u001b[38;5;241;43m.\u001b[39;49m\u001b[43mappend\u001b[49m\u001b[43m(\u001b[49m\u001b[43m(\u001b[49m\u001b[43mnumber\u001b[49m\u001b[43m)\u001b[49m\u001b[43m)\u001b[49m\n\u001b[1;32m     50\u001b[0m \u001b[38;5;28;01mreturn\u001b[39;00m k\n",
      "File \u001b[0;32m~/miniconda3/envs/ga-qsvm/lib/python3.11/concurrent/futures/process.py:620\u001b[0m, in \u001b[0;36m_chain_from_iterable_of_lists\u001b[0;34m(iterable)\u001b[0m\n\u001b[1;32m    614\u001b[0m \u001b[38;5;28;01mdef\u001b[39;00m \u001b[38;5;21m_chain_from_iterable_of_lists\u001b[39m(iterable):\n\u001b[1;32m    615\u001b[0m \u001b[38;5;250m    \u001b[39m\u001b[38;5;124;03m\"\"\"\u001b[39;00m\n\u001b[1;32m    616\u001b[0m \u001b[38;5;124;03m    Specialized implementation of itertools.chain.from_iterable.\u001b[39;00m\n\u001b[1;32m    617\u001b[0m \u001b[38;5;124;03m    Each item in *iterable* should be a list.  This function is\u001b[39;00m\n\u001b[1;32m    618\u001b[0m \u001b[38;5;124;03m    careful not to keep references to yielded objects.\u001b[39;00m\n\u001b[1;32m    619\u001b[0m \u001b[38;5;124;03m    \"\"\"\u001b[39;00m\n\u001b[0;32m--> 620\u001b[0m \u001b[43m    \u001b[49m\u001b[38;5;28;43;01mfor\u001b[39;49;00m\u001b[43m \u001b[49m\u001b[43melement\u001b[49m\u001b[43m \u001b[49m\u001b[38;5;129;43;01min\u001b[39;49;00m\u001b[43m \u001b[49m\u001b[43miterable\u001b[49m\u001b[43m:\u001b[49m\n\u001b[1;32m    621\u001b[0m \u001b[43m        \u001b[49m\u001b[43melement\u001b[49m\u001b[38;5;241;43m.\u001b[39;49m\u001b[43mreverse\u001b[49m\u001b[43m(\u001b[49m\u001b[43m)\u001b[49m\n\u001b[1;32m    622\u001b[0m \u001b[43m        \u001b[49m\u001b[38;5;28;43;01mwhile\u001b[39;49;00m\u001b[43m \u001b[49m\u001b[43melement\u001b[49m\u001b[43m:\u001b[49m\n",
      "File \u001b[0;32m~/miniconda3/envs/ga-qsvm/lib/python3.11/concurrent/futures/_base.py:619\u001b[0m, in \u001b[0;36mExecutor.map.<locals>.result_iterator\u001b[0;34m()\u001b[0m\n\u001b[1;32m    616\u001b[0m \u001b[38;5;28;01mwhile\u001b[39;00m fs:\n\u001b[1;32m    617\u001b[0m     \u001b[38;5;66;03m# Careful not to keep a reference to the popped future\u001b[39;00m\n\u001b[1;32m    618\u001b[0m     \u001b[38;5;28;01mif\u001b[39;00m timeout \u001b[38;5;129;01mis\u001b[39;00m \u001b[38;5;28;01mNone\u001b[39;00m:\n\u001b[0;32m--> 619\u001b[0m         \u001b[38;5;28;01myield\u001b[39;00m \u001b[43m_result_or_cancel\u001b[49m\u001b[43m(\u001b[49m\u001b[43mfs\u001b[49m\u001b[38;5;241;43m.\u001b[39;49m\u001b[43mpop\u001b[49m\u001b[43m(\u001b[49m\u001b[43m)\u001b[49m\u001b[43m)\u001b[49m\n\u001b[1;32m    620\u001b[0m     \u001b[38;5;28;01melse\u001b[39;00m:\n\u001b[1;32m    621\u001b[0m         \u001b[38;5;28;01myield\u001b[39;00m _result_or_cancel(fs\u001b[38;5;241m.\u001b[39mpop(), end_time \u001b[38;5;241m-\u001b[39m time\u001b[38;5;241m.\u001b[39mmonotonic())\n",
      "File \u001b[0;32m~/miniconda3/envs/ga-qsvm/lib/python3.11/concurrent/futures/_base.py:317\u001b[0m, in \u001b[0;36m_result_or_cancel\u001b[0;34m(***failed resolving arguments***)\u001b[0m\n\u001b[1;32m    315\u001b[0m \u001b[38;5;28;01mtry\u001b[39;00m:\n\u001b[1;32m    316\u001b[0m     \u001b[38;5;28;01mtry\u001b[39;00m:\n\u001b[0;32m--> 317\u001b[0m         \u001b[38;5;28;01mreturn\u001b[39;00m \u001b[43mfut\u001b[49m\u001b[38;5;241;43m.\u001b[39;49m\u001b[43mresult\u001b[49m\u001b[43m(\u001b[49m\u001b[43mtimeout\u001b[49m\u001b[43m)\u001b[49m\n\u001b[1;32m    318\u001b[0m     \u001b[38;5;28;01mfinally\u001b[39;00m:\n\u001b[1;32m    319\u001b[0m         fut\u001b[38;5;241m.\u001b[39mcancel()\n",
      "File \u001b[0;32m~/miniconda3/envs/ga-qsvm/lib/python3.11/concurrent/futures/_base.py:451\u001b[0m, in \u001b[0;36mFuture.result\u001b[0;34m(self, timeout)\u001b[0m\n\u001b[1;32m    448\u001b[0m \u001b[38;5;28;01melif\u001b[39;00m \u001b[38;5;28mself\u001b[39m\u001b[38;5;241m.\u001b[39m_state \u001b[38;5;241m==\u001b[39m FINISHED:\n\u001b[1;32m    449\u001b[0m     \u001b[38;5;28;01mreturn\u001b[39;00m \u001b[38;5;28mself\u001b[39m\u001b[38;5;241m.\u001b[39m__get_result()\n\u001b[0;32m--> 451\u001b[0m \u001b[38;5;28;43mself\u001b[39;49m\u001b[38;5;241;43m.\u001b[39;49m\u001b[43m_condition\u001b[49m\u001b[38;5;241;43m.\u001b[39;49m\u001b[43mwait\u001b[49m\u001b[43m(\u001b[49m\u001b[43mtimeout\u001b[49m\u001b[43m)\u001b[49m\n\u001b[1;32m    453\u001b[0m \u001b[38;5;28;01mif\u001b[39;00m \u001b[38;5;28mself\u001b[39m\u001b[38;5;241m.\u001b[39m_state \u001b[38;5;129;01min\u001b[39;00m [CANCELLED, CANCELLED_AND_NOTIFIED]:\n\u001b[1;32m    454\u001b[0m     \u001b[38;5;28;01mraise\u001b[39;00m CancelledError()\n",
      "File \u001b[0;32m~/miniconda3/envs/ga-qsvm/lib/python3.11/threading.py:327\u001b[0m, in \u001b[0;36mCondition.wait\u001b[0;34m(self, timeout)\u001b[0m\n\u001b[1;32m    325\u001b[0m \u001b[38;5;28;01mtry\u001b[39;00m:    \u001b[38;5;66;03m# restore state no matter what (e.g., KeyboardInterrupt)\u001b[39;00m\n\u001b[1;32m    326\u001b[0m     \u001b[38;5;28;01mif\u001b[39;00m timeout \u001b[38;5;129;01mis\u001b[39;00m \u001b[38;5;28;01mNone\u001b[39;00m:\n\u001b[0;32m--> 327\u001b[0m         \u001b[43mwaiter\u001b[49m\u001b[38;5;241;43m.\u001b[39;49m\u001b[43macquire\u001b[49m\u001b[43m(\u001b[49m\u001b[43m)\u001b[49m\n\u001b[1;32m    328\u001b[0m         gotit \u001b[38;5;241m=\u001b[39m \u001b[38;5;28;01mTrue\u001b[39;00m\n\u001b[1;32m    329\u001b[0m     \u001b[38;5;28;01melse\u001b[39;00m:\n",
      "\u001b[0;31mKeyboardInterrupt\u001b[0m: "
     ]
    }
   ],
   "source": [
    "# Define the metadata\n",
    "# When increase all the can change then there is a error list index out of range\n",
    "env_metadata = MetadataSynthesis(\n",
    "    num_qubits=3,            # Number of qubits\n",
    "    num_rx=1,                # Number of RX gates # Can't change\n",
    "    num_ry=2,                # Number of RY gates # Can't change\n",
    "    num_rz=0,                # Number of RZ gates # Can't change\n",
    "    depth=4,                 # Depth of the circuit # Can't change this with num_circuit, num_generation\n",
    "    num_circuit=8,           # Number of circuits in the population\n",
    "    num_generation=10,       # Number of generations \n",
    "    prob_mutate=0.02783         # Mutation probability\n",
    ")\n",
    "\n",
    "# Define the environment\n",
    "env = EEnvironment(\n",
    "    metadata=env_metadata,\n",
    "    fitness_func=train_qsvm_with_wine,\n",
    "    generator_func=by_num_rotations_and_cnot,  # Use the new generator function\n",
    "    crossover_func=onepoint(\n",
    "        divider.by_num_rotation_gate(int((env_metadata.num_qubits)/ 2)),\n",
    "        normalizer.by_num_rotation_gate(env_metadata.num_qubits)\n",
    "    ),\n",
    "    mutate_func=bitflip_mutate_with_normalizer(operations_with_rotations, \n",
    "                                               normalizer_func=normalizer.by_num_rotation_gate(env_metadata.num_qubits)),\n",
    "    threshold_func=synthesis_threshold\n",
    ")\n",
    "\n",
    "# Run the evolution process\n",
    "\n",
    "env.evol(verbose=True, mode=\"parallel\")\n"
   ]
  },
  {
   "cell_type": "code",
   "execution_count": null,
   "metadata": {},
   "outputs": [],
   "source": [
    "clf = SVC( gamma=0.877551020408163, kernel=\"rbf\").fit(Xw_train, yw_train)\n",
    "train_pred = clf.predict(Xw_train)\n",
    "test_pred = clf.predict(Xw_test)\n",
    "print(\"Training Accuracy:\",clf.score(Xw_train, yw_train))\n",
    "print(\"Testing Accuracy:\",clf.score(Xw_test, yw_test))\n",
    "# Print classification report\n",
    "print(\"Training Classification Report:\")\n",
    "print(classification_report(yw_train, train_pred))\n",
    "\n",
    "print(\"\\nTesting Classification Report:\")\n",
    "print(classification_report(yw_test, test_pred))"
   ]
  }
 ],
 "metadata": {
  "kernelspec": {
   "display_name": "ga-qsvm",
   "language": "python",
   "name": "python3"
  },
  "language_info": {
   "codemirror_mode": {
    "name": "ipython",
    "version": 3
   },
   "file_extension": ".py",
   "mimetype": "text/x-python",
   "name": "python",
   "nbconvert_exporter": "python",
   "pygments_lexer": "ipython3",
   "version": "3.11.11"
  }
 },
 "nbformat": 4,
 "nbformat_minor": 2
}
